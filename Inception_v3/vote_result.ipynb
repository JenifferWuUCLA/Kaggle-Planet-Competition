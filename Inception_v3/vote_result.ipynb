{
 "cells": [
  {
   "cell_type": "code",
   "execution_count": 55,
   "metadata": {
    "collapsed": false
   },
   "outputs": [],
   "source": [
    "import numpy as np\n",
    "import pandas as pd\n",
    "import os\n",
    "PLANET_KAGGLE_RESULT = os.path.abspath(\"./result\")\n",
    "PLANET_KAGGLE_RESULT_1 = os.path.join(PLANET_KAGGLE_RESULT, '0.9303.csv')\n",
    "PLANET_KAGGLE_RESULT_2 = os.path.join(PLANET_KAGGLE_RESULT, '0.9270.csv')\n",
    "PLANET_KAGGLE_RESULT_3 = os.path.join(PLANET_KAGGLE_RESULT, '0.9218.csv')\n",
    "PLANET_KAGGLE_RESULT_4 = os.path.join(PLANET_KAGGLE_RESULT, '0.9186.csv')\n",
    "PLANET_KAGGLE_RESULT_5 = os.path.join(PLANET_KAGGLE_RESULT, '0.9152.csv')\n",
    "PLANET_KAGGLE_RESULT_6 = os.path.join(PLANET_KAGGLE_RESULT, '0.9299.csv')\n",
    "result_1 = pd.read_csv(PLANET_KAGGLE_RESULT_1)\n",
    "result_2 = pd.read_csv(PLANET_KAGGLE_RESULT_2)\n",
    "result_3 = pd.read_csv(PLANET_KAGGLE_RESULT_3)\n",
    "result_4 = pd.read_csv(PLANET_KAGGLE_RESULT_4)\n",
    "result_5 = pd.read_csv(PLANET_KAGGLE_RESULT_5)\n",
    "result_6 = pd.read_csv(PLANET_KAGGLE_RESULT_6)\n",
    "result_list = [result_1, result_2, result_3, result_4, result_5, result_6]"
   ]
  },
  {
   "cell_type": "code",
   "execution_count": 27,
   "metadata": {
    "collapsed": true
   },
   "outputs": [],
   "source": [
    "label_list = ['agriculture', 'artisinal_mine', 'bare_ground', 'blooming', 'blow_down', 'clear',\n",
    "              'cloudy', 'conventional_mine', 'cultivation', 'habitation', 'haze', 'partly_cloudy',\n",
    "              'primary', 'road', 'selective_logging', 'slash_burn', 'water']"
   ]
  },
  {
   "cell_type": "code",
   "execution_count": 56,
   "metadata": {
    "collapsed": false
   },
   "outputs": [],
   "source": [
    "# Add onehot features for every label\n",
    "for result in result_list:\n",
    "    for label in label_list:\n",
    "        result[label] = result['tags'].apply(lambda x: 1 if label in x.split(' ') else 0)"
   ]
  },
  {
   "cell_type": "code",
   "execution_count": 58,
   "metadata": {
    "collapsed": false
   },
   "outputs": [],
   "source": [
    "result_array = np.zeros_like(result_list[0][label_list].values).astype(np.float)\n",
    "for i in range(len(result_list)):\n",
    "    result_array += np.array(result_list[i][label_list].values)"
   ]
  },
  {
   "cell_type": "code",
   "execution_count": 59,
   "metadata": {
    "collapsed": false
   },
   "outputs": [],
   "source": [
    "vote_result = (result_array > 3).astype(np.int)"
   ]
  },
  {
   "cell_type": "code",
   "execution_count": 60,
   "metadata": {
    "collapsed": false
   },
   "outputs": [],
   "source": [
    "import csv\n",
    "imgnames = result_1['image_name'].tolist()\n",
    "synset = [l.strip() for l in open(\"../planet/synset.txt\").readlines()] \n",
    "with open('./result.csv', 'wb') as f:\n",
    "    writer = csv.writer(f)\n",
    "    writer.writerow(['image_name', 'tags'])\n",
    "    for i in xrange(vote_result.shape[0]):\n",
    "        tag = \"\"\n",
    "        for j in xrange(17):\n",
    "            if vote_result[i,j] == 1:\n",
    "                tag = tag + synset[j] + ' '\n",
    "        row = [imgnames[i]] + [tag[:-1]]\n",
    "        writer.writerow(row)"
   ]
  },
  {
   "cell_type": "code",
   "execution_count": null,
   "metadata": {
    "collapsed": true
   },
   "outputs": [],
   "source": []
  }
 ],
 "metadata": {
  "kernelspec": {
   "display_name": "Python 2",
   "language": "python",
   "name": "python2"
  },
  "language_info": {
   "codemirror_mode": {
    "name": "ipython",
    "version": 2
   },
   "file_extension": ".py",
   "mimetype": "text/x-python",
   "name": "python",
   "nbconvert_exporter": "python",
   "pygments_lexer": "ipython2",
   "version": "2.7.13"
  }
 },
 "nbformat": 4,
 "nbformat_minor": 2
}
